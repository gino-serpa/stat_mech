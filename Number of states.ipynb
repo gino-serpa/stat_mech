{
 "cells": [
  {
   "cell_type": "code",
   "execution_count": 1,
   "id": "c1c063c7",
   "metadata": {
    "ExecuteTime": {
     "end_time": "2023-10-27T15:19:30.979540Z",
     "start_time": "2023-10-27T15:19:30.971040Z"
    }
   },
   "outputs": [],
   "source": [
    "from math import comb, log\n",
    "\n",
    "\n",
    "class two_level_system:\n",
    "    \n",
    "    def __init__(self, n_particles, energy):\n",
    "        self.n_particles = n_particles\n",
    "        self.energy = energy\n",
    "\n",
    "        \n",
    "    def energy_per_particle(self):\n",
    "        print(self.energy/self.n_particles)\n",
    "        "
   ]
  },
  {
   "cell_type": "code",
   "execution_count": 2,
   "id": "ead85c23",
   "metadata": {
    "ExecuteTime": {
     "end_time": "2023-10-27T15:19:30.986138Z",
     "start_time": "2023-10-27T15:19:30.982497Z"
    }
   },
   "outputs": [],
   "source": [
    "system_1 = two_level_system(n_particles=16, energy=8)\n",
    "system_2 = two_level_system(n_particles=32, energy=16)"
   ]
  },
  {
   "cell_type": "code",
   "execution_count": 3,
   "id": "2256a36f",
   "metadata": {
    "ExecuteTime": {
     "end_time": "2023-10-27T15:19:30.992188Z",
     "start_time": "2023-10-27T15:19:30.989001Z"
    }
   },
   "outputs": [],
   "source": [
    "# When two systems exchange energy\n",
    "# System 1 can have energies from 0 to E total, \n",
    "# each energy has a number of microstates"
   ]
  },
  {
   "cell_type": "code",
   "execution_count": 4,
   "id": "00a8039a",
   "metadata": {
    "ExecuteTime": {
     "end_time": "2023-10-27T15:19:31.000420Z",
     "start_time": "2023-10-27T15:19:30.994654Z"
    }
   },
   "outputs": [
    {
     "name": "stdout",
     "output_type": "stream",
     "text": [
      "[0, 1, 2, 3, 4, 5, 6, 7, 8, 9, 10, 11, 12, 13, 14, 15, 16, 17, 18, 19, 20, 21, 22, 23, 24]\n"
     ]
    }
   ],
   "source": [
    "e_total = system_1.energy+system_2.energy\n",
    "energy_range=list(range(0,e_total+1))\n",
    "print(energy_range)"
   ]
  },
  {
   "cell_type": "code",
   "execution_count": 5,
   "id": "cbacdfda",
   "metadata": {
    "ExecuteTime": {
     "end_time": "2023-10-27T15:19:31.005992Z",
     "start_time": "2023-10-27T15:19:31.003304Z"
    }
   },
   "outputs": [],
   "source": [
    "microstates= list()\n",
    "for energy in energy_range:\n",
    "    _microstates = comb(system_2.n_particles, energy)\n",
    "    microstates.append(_microstates)"
   ]
  },
  {
   "cell_type": "code",
   "execution_count": 6,
   "id": "90865eab",
   "metadata": {
    "ExecuteTime": {
     "end_time": "2023-10-27T15:19:31.465899Z",
     "start_time": "2023-10-27T15:19:31.007294Z"
    }
   },
   "outputs": [
    {
     "data": {
      "image/png": "[encoded data removed]",
      "text/plain": [
       "<Figure size 432x288 with 1 Axes>"
      ]
     },
     "metadata": {
      "needs_background": "light"
     },
     "output_type": "display_data"
    }
   ],
   "source": [
    "# importing matplotlib module \n",
    "from matplotlib import pyplot as plt \n",
    "\n",
    " \n",
    "# Function to plot \n",
    "plt.plot(energy_range, microstates) \n",
    " \n",
    "# function to show the plot \n",
    "plt.show()\n"
   ]
  },
  {
   "cell_type": "code",
   "execution_count": null,
   "id": "273ab09e",
   "metadata": {},
   "outputs": [],
   "source": []
  }
 ],
 "metadata": {
  "kernelspec": {
   "display_name": "Python 3 (ipykernel)",
   "language": "python",
   "name": "python3"
  },
  "language_info": {
   "codemirror_mode": {
    "name": "ipython",
    "version": 3
   },
   "file_extension": ".py",
   "mimetype": "text/x-python",
   "name": "python",
   "nbconvert_exporter": "python",
   "pygments_lexer": "ipython3",
   "version": "3.10.12"
  },
  "toc": {
   "base_numbering": 1,
   "nav_menu": {},
   "number_sections": true,
   "sideBar": true,
   "skip_h1_title": false,
   "title_cell": "Table of Contents",
   "title_sidebar": "Contents",
   "toc_cell": false,
   "toc_position": {},
   "toc_section_display": true,
   "toc_window_display": false
  },
  "varInspector": {
   "cols": {
    "lenName": 16,
    "lenType": 16,
    "lenVar": 40
   },
   "kernels_config": {
    "python": {
     "delete_cmd_postfix": "",
     "delete_cmd_prefix": "del ",
     "library": "var_list.py",
     "varRefreshCmd": "print(var_dic_list())"
    },
    "r": {
     "delete_cmd_postfix": ") ",
     "delete_cmd_prefix": "rm(",
     "library": "var_list.r",
     "varRefreshCmd": "cat(var_dic_list()) "
    }
   },
   "types_to_exclude": [
    "module",
    "function",
    "builtin_function_or_method",
    "instance",
    "_Feature"
   ],
   "window_display": false
  }
 },
 "nbformat": 4,
 "nbformat_minor": 5
}
