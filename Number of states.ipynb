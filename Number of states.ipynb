{
 "cells": [
  {
   "cell_type": "code",
   "execution_count": 1,
   "id": "fe052858",
   "metadata": {
    "ExecuteTime": {
     "end_time": "2023-10-28T13:52:06.644207Z",
     "start_time": "2023-10-28T13:52:06.220264Z"
    }
   },
   "outputs": [],
   "source": [
    "import thermodynamic_systems as ts\n",
    "from math import comb, log"
   ]
  },
  {
   "cell_type": "markdown",
   "id": "b234793b",
   "metadata": {},
   "source": [
    "# Define two  systems"
   ]
  },
  {
   "cell_type": "code",
   "execution_count": 2,
   "id": "ead85c23",
   "metadata": {
    "ExecuteTime": {
     "end_time": "2023-10-28T13:52:06.648315Z",
     "start_time": "2023-10-28T13:52:06.645915Z"
    }
   },
   "outputs": [],
   "source": [
    "system_1 = ts.system_2l(n_particles=16, \n",
    "                        energy=8)\n",
    "system_2 = ts.system_2l(n_particles=32, \n",
    "                        energy=16)"
   ]
  },
  {
   "cell_type": "markdown",
   "id": "42e48143",
   "metadata": {},
   "source": [
    "# Entropy as a function of energy\n"
   ]
  },
  {
   "cell_type": "code",
   "execution_count": 3,
   "id": "67e2318a",
   "metadata": {
    "ExecuteTime": {
     "end_time": "2023-10-28T13:52:06.711621Z",
     "start_time": "2023-10-28T13:52:06.649267Z"
    }
   },
   "outputs": [
    {
     "data": {
      "image/png": "[encoded data removed]",
      "text/plain": [
       "<Figure size 432x288 with 1 Axes>"
      ]
     },
     "metadata": {
      "needs_background": "light"
     },
     "output_type": "display_data"
    }
   ],
   "source": [
    "system = ts.system_2l(n_particles=24,\n",
    "                     energy=12)\n",
    "energies, microstates = system.m_vs_e()"
   ]
  },
  {
   "cell_type": "code",
   "execution_count": null,
   "id": "e47e38b7",
   "metadata": {},
   "outputs": [],
   "source": [
    "energies, s = system.s_vs_e()"
   ]
  },
  {
   "cell_type": "code",
   "execution_count": 4,
   "id": "2256a36f",
   "metadata": {
    "ExecuteTime": {
     "end_time": "2023-10-28T13:52:06.716223Z",
     "start_time": "2023-10-28T13:52:06.713970Z"
    }
   },
   "outputs": [],
   "source": [
    "# When two systems exchange energy\n",
    "# System 1 can have energies from 0 to E total, \n",
    "# each energy has a number of microstates"
   ]
  }
 ],
 "metadata": {
  "kernelspec": {
   "display_name": "Python 3 (ipykernel)",
   "language": "python",
   "name": "python3"
  },
  "language_info": {
   "codemirror_mode": {
    "name": "ipython",
    "version": 3
   },
   "file_extension": ".py",
   "mimetype": "text/x-python",
   "name": "python",
   "nbconvert_exporter": "python",
   "pygments_lexer": "ipython3",
   "version": "3.10.12"
  },
  "toc": {
   "base_numbering": 1,
   "nav_menu": {},
   "number_sections": true,
   "sideBar": true,
   "skip_h1_title": false,
   "title_cell": "Table of Contents",
   "title_sidebar": "Contents",
   "toc_cell": false,
   "toc_position": {},
   "toc_section_display": true,
   "toc_window_display": false
  },
  "varInspector": {
   "cols": {
    "lenName": 16,
    "lenType": 16,
    "lenVar": 40
   },
   "kernels_config": {
    "python": {
     "delete_cmd_postfix": "",
     "delete_cmd_prefix": "del ",
     "library": "var_list.py",
     "varRefreshCmd": "print(var_dic_list())"
    },
    "r": {
     "delete_cmd_postfix": ") ",
     "delete_cmd_prefix": "rm(",
     "library": "var_list.r",
     "varRefreshCmd": "cat(var_dic_list()) "
    }
   },
   "types_to_exclude": [
    "module",
    "function",
    "builtin_function_or_method",
    "instance",
    "_Feature"
   ],
   "window_display": false
  }
 },
 "nbformat": 4,
 "nbformat_minor": 5
}
